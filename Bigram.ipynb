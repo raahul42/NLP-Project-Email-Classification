{
 "cells": [
  {
   "cell_type": "code",
   "execution_count": 1,
   "id": "a01e8ab3",
   "metadata": {},
   "outputs": [],
   "source": [
    "import pandas as pd"
   ]
  },
  {
   "cell_type": "code",
   "execution_count": 2,
   "id": "62cd0fa3",
   "metadata": {},
   "outputs": [],
   "source": [
    "#pip install pyarrow"
   ]
  },
  {
   "cell_type": "code",
   "execution_count": 3,
   "id": "b48f9f5b",
   "metadata": {},
   "outputs": [],
   "source": [
    "data = pd.read_csv('emails_1.csv', low_memory=False)"
   ]
  },
  {
   "cell_type": "code",
   "execution_count": 4,
   "id": "ec5da0b2",
   "metadata": {},
   "outputs": [],
   "source": [
    "data = data.sample(n=5000)\n"
   ]
  },
  {
   "cell_type": "code",
   "execution_count": 5,
   "id": "e9d23ab1",
   "metadata": {},
   "outputs": [
    {
     "data": {
      "text/html": [
       "<div>\n",
       "<style scoped>\n",
       "    .dataframe tbody tr th:only-of-type {\n",
       "        vertical-align: middle;\n",
       "    }\n",
       "\n",
       "    .dataframe tbody tr th {\n",
       "        vertical-align: top;\n",
       "    }\n",
       "\n",
       "    .dataframe thead th {\n",
       "        text-align: right;\n",
       "    }\n",
       "</style>\n",
       "<table border=\"1\" class=\"dataframe\">\n",
       "  <thead>\n",
       "    <tr style=\"text-align: right;\">\n",
       "      <th></th>\n",
       "      <th>text</th>\n",
       "      <th>spam</th>\n",
       "    </tr>\n",
       "  </thead>\n",
       "  <tbody>\n",
       "    <tr>\n",
       "      <th>3516</th>\n",
       "      <td>Subject: telephone interview with the enron co...</td>\n",
       "      <td>0</td>\n",
       "    </tr>\n",
       "    <tr>\n",
       "      <th>3439</th>\n",
       "      <td>Subject: re : copy room  kevin ,  you have ful...</td>\n",
       "      <td>0</td>\n",
       "    </tr>\n",
       "    <tr>\n",
       "      <th>706</th>\n",
       "      <td>Subject: urgent response  dear sir / madam ,  ...</td>\n",
       "      <td>1</td>\n",
       "    </tr>\n",
       "    <tr>\n",
       "      <th>3793</th>\n",
       "      <td>Subject: long - term volatility curves  grant ...</td>\n",
       "      <td>0</td>\n",
       "    </tr>\n",
       "    <tr>\n",
       "      <th>4866</th>\n",
       "      <td>Subject: enron research and ebs engineering an...</td>\n",
       "      <td>0</td>\n",
       "    </tr>\n",
       "  </tbody>\n",
       "</table>\n",
       "</div>"
      ],
      "text/plain": [
       "                                                   text  spam\n",
       "3516  Subject: telephone interview with the enron co...     0\n",
       "3439  Subject: re : copy room  kevin ,  you have ful...     0\n",
       "706   Subject: urgent response  dear sir / madam ,  ...     1\n",
       "3793  Subject: long - term volatility curves  grant ...     0\n",
       "4866  Subject: enron research and ebs engineering an...     0"
      ]
     },
     "execution_count": 5,
     "metadata": {},
     "output_type": "execute_result"
    }
   ],
   "source": [
    "data.sample(5)"
   ]
  },
  {
   "cell_type": "code",
   "execution_count": 6,
   "id": "d238fcf2",
   "metadata": {},
   "outputs": [
    {
     "data": {
      "text/plain": [
       "(5000, 2)"
      ]
     },
     "execution_count": 6,
     "metadata": {},
     "output_type": "execute_result"
    }
   ],
   "source": [
    "#Checking the shape of Data\n",
    "data.shape"
   ]
  },
  {
   "cell_type": "code",
   "execution_count": 7,
   "id": "3287e4a5",
   "metadata": {},
   "outputs": [
    {
     "data": {
      "text/plain": [
       "text    0\n",
       "spam    0\n",
       "dtype: int64"
      ]
     },
     "execution_count": 7,
     "metadata": {},
     "output_type": "execute_result"
    }
   ],
   "source": [
    "#Checking Null Values in the data\n",
    "data.isnull().sum()"
   ]
  },
  {
   "cell_type": "code",
   "execution_count": 8,
   "id": "eff2a01f",
   "metadata": {},
   "outputs": [
    {
     "data": {
      "text/plain": [
       "array([0, 1])"
      ]
     },
     "execution_count": 8,
     "metadata": {},
     "output_type": "execute_result"
    }
   ],
   "source": [
    "data['spam'].unique()"
   ]
  },
  {
   "cell_type": "code",
   "execution_count": 9,
   "id": "7747c6d6",
   "metadata": {},
   "outputs": [
    {
     "data": {
      "text/plain": [
       "0    3812\n",
       "1    1188\n",
       "Name: spam, dtype: int64"
      ]
     },
     "execution_count": 9,
     "metadata": {},
     "output_type": "execute_result"
    }
   ],
   "source": [
    "data['spam'].value_counts()"
   ]
  },
  {
   "cell_type": "code",
   "execution_count": 10,
   "id": "3114941e",
   "metadata": {},
   "outputs": [
    {
     "data": {
      "text/html": [
       "<div>\n",
       "<style scoped>\n",
       "    .dataframe tbody tr th:only-of-type {\n",
       "        vertical-align: middle;\n",
       "    }\n",
       "\n",
       "    .dataframe tbody tr th {\n",
       "        vertical-align: top;\n",
       "    }\n",
       "\n",
       "    .dataframe thead th {\n",
       "        text-align: right;\n",
       "    }\n",
       "</style>\n",
       "<table border=\"1\" class=\"dataframe\">\n",
       "  <thead>\n",
       "    <tr style=\"text-align: right;\">\n",
       "      <th></th>\n",
       "      <th>text</th>\n",
       "      <th>spam</th>\n",
       "    </tr>\n",
       "  </thead>\n",
       "  <tbody>\n",
       "    <tr>\n",
       "      <th>1992</th>\n",
       "      <td>Subject: re : lawyer  ian ,  sorry for a delay...</td>\n",
       "      <td>0</td>\n",
       "    </tr>\n",
       "    <tr>\n",
       "      <th>821</th>\n",
       "      <td>Subject: http : / / www . efi . ie /  http : /...</td>\n",
       "      <td>1</td>\n",
       "    </tr>\n",
       "    <tr>\n",
       "      <th>3114</th>\n",
       "      <td>Subject: contract agreement for energy derivat...</td>\n",
       "      <td>0</td>\n",
       "    </tr>\n",
       "    <tr>\n",
       "      <th>1620</th>\n",
       "      <td>Subject: re : alp presentation  fyi  vince  - ...</td>\n",
       "      <td>0</td>\n",
       "    </tr>\n",
       "    <tr>\n",
       "      <th>4613</th>\n",
       "      <td>Subject: tw capacity options  we ' re at the p...</td>\n",
       "      <td>0</td>\n",
       "    </tr>\n",
       "  </tbody>\n",
       "</table>\n",
       "</div>"
      ],
      "text/plain": [
       "                                                   text  spam\n",
       "1992  Subject: re : lawyer  ian ,  sorry for a delay...     0\n",
       "821   Subject: http : / / www . efi . ie /  http : /...     1\n",
       "3114  Subject: contract agreement for energy derivat...     0\n",
       "1620  Subject: re : alp presentation  fyi  vince  - ...     0\n",
       "4613  Subject: tw capacity options  we ' re at the p...     0"
      ]
     },
     "execution_count": 10,
     "metadata": {},
     "output_type": "execute_result"
    }
   ],
   "source": [
    "data.head()"
   ]
  },
  {
   "cell_type": "code",
   "execution_count": 11,
   "id": "757d1c9a",
   "metadata": {},
   "outputs": [
    {
     "data": {
      "text/plain": [
       "text    0\n",
       "spam    0\n",
       "dtype: int64"
      ]
     },
     "execution_count": 11,
     "metadata": {},
     "output_type": "execute_result"
    }
   ],
   "source": [
    "#missing values\n",
    "data.isnull().sum()"
   ]
  },
  {
   "cell_type": "code",
   "execution_count": 12,
   "id": "0d4e649d",
   "metadata": {},
   "outputs": [
    {
     "data": {
      "text/plain": [
       "27"
      ]
     },
     "execution_count": 12,
     "metadata": {},
     "output_type": "execute_result"
    }
   ],
   "source": [
    "#duplicate values\n",
    "data.duplicated().sum()"
   ]
  },
  {
   "cell_type": "code",
   "execution_count": 13,
   "id": "64907a01",
   "metadata": {},
   "outputs": [],
   "source": [
    "#remove duplicates\n",
    "data = data.drop_duplicates(keep='first')"
   ]
  },
  {
   "cell_type": "code",
   "execution_count": 14,
   "id": "1032bd5c",
   "metadata": {},
   "outputs": [
    {
     "data": {
      "text/plain": [
       "(4973, 2)"
      ]
     },
     "execution_count": 14,
     "metadata": {},
     "output_type": "execute_result"
    }
   ],
   "source": [
    "data.shape"
   ]
  },
  {
   "cell_type": "markdown",
   "id": "a35be790",
   "metadata": {},
   "source": [
    "EDA"
   ]
  },
  {
   "cell_type": "code",
   "execution_count": 15,
   "id": "b41983a5",
   "metadata": {},
   "outputs": [],
   "source": [
    "data.rename(columns = {'text':'text', 'label':'spam'},\n",
    "                         inplace = True)"
   ]
  },
  {
   "cell_type": "code",
   "execution_count": 16,
   "id": "fa998c52",
   "metadata": {},
   "outputs": [],
   "source": [
    "from sklearn.preprocessing import LabelEncoder\n",
    "le = LabelEncoder()\n",
    "data['spam'] = le.fit_transform(data['spam'])"
   ]
  },
  {
   "cell_type": "code",
   "execution_count": 17,
   "id": "a251e67c",
   "metadata": {},
   "outputs": [
    {
     "data": {
      "text/html": [
       "<div>\n",
       "<style scoped>\n",
       "    .dataframe tbody tr th:only-of-type {\n",
       "        vertical-align: middle;\n",
       "    }\n",
       "\n",
       "    .dataframe tbody tr th {\n",
       "        vertical-align: top;\n",
       "    }\n",
       "\n",
       "    .dataframe thead th {\n",
       "        text-align: right;\n",
       "    }\n",
       "</style>\n",
       "<table border=\"1\" class=\"dataframe\">\n",
       "  <thead>\n",
       "    <tr style=\"text-align: right;\">\n",
       "      <th></th>\n",
       "      <th>text</th>\n",
       "      <th>spam</th>\n",
       "    </tr>\n",
       "  </thead>\n",
       "  <tbody>\n",
       "    <tr>\n",
       "      <th>1992</th>\n",
       "      <td>Subject: re : lawyer  ian ,  sorry for a delay...</td>\n",
       "      <td>0</td>\n",
       "    </tr>\n",
       "    <tr>\n",
       "      <th>821</th>\n",
       "      <td>Subject: http : / / www . efi . ie /  http : /...</td>\n",
       "      <td>1</td>\n",
       "    </tr>\n",
       "    <tr>\n",
       "      <th>3114</th>\n",
       "      <td>Subject: contract agreement for energy derivat...</td>\n",
       "      <td>0</td>\n",
       "    </tr>\n",
       "    <tr>\n",
       "      <th>1620</th>\n",
       "      <td>Subject: re : alp presentation  fyi  vince  - ...</td>\n",
       "      <td>0</td>\n",
       "    </tr>\n",
       "    <tr>\n",
       "      <th>4613</th>\n",
       "      <td>Subject: tw capacity options  we ' re at the p...</td>\n",
       "      <td>0</td>\n",
       "    </tr>\n",
       "  </tbody>\n",
       "</table>\n",
       "</div>"
      ],
      "text/plain": [
       "                                                   text  spam\n",
       "1992  Subject: re : lawyer  ian ,  sorry for a delay...     0\n",
       "821   Subject: http : / / www . efi . ie /  http : /...     1\n",
       "3114  Subject: contract agreement for energy derivat...     0\n",
       "1620  Subject: re : alp presentation  fyi  vince  - ...     0\n",
       "4613  Subject: tw capacity options  we ' re at the p...     0"
      ]
     },
     "execution_count": 17,
     "metadata": {},
     "output_type": "execute_result"
    }
   ],
   "source": [
    "data.head()"
   ]
  },
  {
   "cell_type": "code",
   "execution_count": 18,
   "id": "4707fd15",
   "metadata": {},
   "outputs": [
    {
     "data": {
      "text/plain": [
       "0    3785\n",
       "1    1188\n",
       "Name: spam, dtype: int64"
      ]
     },
     "execution_count": 18,
     "metadata": {},
     "output_type": "execute_result"
    }
   ],
   "source": [
    "data['spam'].value_counts()"
   ]
  },
  {
   "cell_type": "code",
   "execution_count": 19,
   "id": "e2ef8593",
   "metadata": {},
   "outputs": [
    {
     "data": {
      "image/png": "[encoded data removed]",
      "text/plain": [
       "<Figure size 640x480 with 1 Axes>"
      ]
     },
     "metadata": {},
     "output_type": "display_data"
    }
   ],
   "source": [
    "import matplotlib.pyplot as plt\n",
    "plt.pie(data['spam'].value_counts(), labels=['ham','spam'], autopct=\"%0.2f\")\n",
    "plt.show()"
   ]
  },
  {
   "cell_type": "code",
   "execution_count": 20,
   "id": "0a9e796b",
   "metadata": {},
   "outputs": [],
   "source": [
    "import nltk\n",
    "import urllib.request"
   ]
  },
  {
   "cell_type": "code",
   "execution_count": 21,
   "id": "1250fad0",
   "metadata": {},
   "outputs": [],
   "source": [
    "from nltk.tokenize import word_tokenize"
   ]
  },
  {
   "cell_type": "code",
   "execution_count": 22,
   "id": "93336c5d",
   "metadata": {},
   "outputs": [
    {
     "name": "stderr",
     "output_type": "stream",
     "text": [
      "[nltk_data] Downloading package punkt to /Users/kriti/nltk_data...\n",
      "[nltk_data]   Package punkt is already up-to-date!\n"
     ]
    },
    {
     "data": {
      "text/plain": [
       "True"
      ]
     },
     "execution_count": 22,
     "metadata": {},
     "output_type": "execute_result"
    }
   ],
   "source": [
    "nltk.download('punkt')"
   ]
  },
  {
   "cell_type": "code",
   "execution_count": 23,
   "id": "283e635d",
   "metadata": {},
   "outputs": [],
   "source": [
    "#number of characters\n",
    "data['num_characters']=data['text'].apply(len)"
   ]
  },
  {
   "cell_type": "code",
   "execution_count": 24,
   "id": "7648f1c0",
   "metadata": {},
   "outputs": [],
   "source": [
    "#number of words\n",
    "data['num_words']=data['text'].apply(lambda x:len(nltk.word_tokenize(x)))"
   ]
  },
  {
   "cell_type": "code",
   "execution_count": 25,
   "id": "ece5e835",
   "metadata": {},
   "outputs": [
    {
     "data": {
      "text/html": [
       "<div>\n",
       "<style scoped>\n",
       "    .dataframe tbody tr th:only-of-type {\n",
       "        vertical-align: middle;\n",
       "    }\n",
       "\n",
       "    .dataframe tbody tr th {\n",
       "        vertical-align: top;\n",
       "    }\n",
       "\n",
       "    .dataframe thead th {\n",
       "        text-align: right;\n",
       "    }\n",
       "</style>\n",
       "<table border=\"1\" class=\"dataframe\">\n",
       "  <thead>\n",
       "    <tr style=\"text-align: right;\">\n",
       "      <th></th>\n",
       "      <th>text</th>\n",
       "      <th>spam</th>\n",
       "      <th>num_characters</th>\n",
       "      <th>num_words</th>\n",
       "    </tr>\n",
       "  </thead>\n",
       "  <tbody>\n",
       "    <tr>\n",
       "      <th>1992</th>\n",
       "      <td>Subject: re : lawyer  ian ,  sorry for a delay...</td>\n",
       "      <td>0</td>\n",
       "      <td>1896</td>\n",
       "      <td>412</td>\n",
       "    </tr>\n",
       "    <tr>\n",
       "      <th>821</th>\n",
       "      <td>Subject: http : / / www . efi . ie /  http : /...</td>\n",
       "      <td>1</td>\n",
       "      <td>1348</td>\n",
       "      <td>266</td>\n",
       "    </tr>\n",
       "    <tr>\n",
       "      <th>3114</th>\n",
       "      <td>Subject: contract agreement for energy derivat...</td>\n",
       "      <td>0</td>\n",
       "      <td>722</td>\n",
       "      <td>136</td>\n",
       "    </tr>\n",
       "    <tr>\n",
       "      <th>1620</th>\n",
       "      <td>Subject: re : alp presentation  fyi  vince  - ...</td>\n",
       "      <td>0</td>\n",
       "      <td>2204</td>\n",
       "      <td>541</td>\n",
       "    </tr>\n",
       "    <tr>\n",
       "      <th>4613</th>\n",
       "      <td>Subject: tw capacity options  we ' re at the p...</td>\n",
       "      <td>0</td>\n",
       "      <td>2174</td>\n",
       "      <td>507</td>\n",
       "    </tr>\n",
       "  </tbody>\n",
       "</table>\n",
       "</div>"
      ],
      "text/plain": [
       "                                                   text  spam  num_characters  \\\n",
       "1992  Subject: re : lawyer  ian ,  sorry for a delay...     0            1896   \n",
       "821   Subject: http : / / www . efi . ie /  http : /...     1            1348   \n",
       "3114  Subject: contract agreement for energy derivat...     0             722   \n",
       "1620  Subject: re : alp presentation  fyi  vince  - ...     0            2204   \n",
       "4613  Subject: tw capacity options  we ' re at the p...     0            2174   \n",
       "\n",
       "      num_words  \n",
       "1992        412  \n",
       "821         266  \n",
       "3114        136  \n",
       "1620        541  \n",
       "4613        507  "
      ]
     },
     "execution_count": 25,
     "metadata": {},
     "output_type": "execute_result"
    }
   ],
   "source": [
    "data.head()"
   ]
  },
  {
   "cell_type": "code",
   "execution_count": 26,
   "id": "1da4cb12",
   "metadata": {},
   "outputs": [],
   "source": [
    "#tokenizing on basis of sentences\n",
    "data['num_sentences']=data['text'].apply(lambda x:len(nltk.sent_tokenize(x))) "
   ]
  },
  {
   "cell_type": "code",
   "execution_count": 27,
   "id": "696fc1ac",
   "metadata": {},
   "outputs": [
    {
     "data": {
      "text/html": [
       "<div>\n",
       "<style scoped>\n",
       "    .dataframe tbody tr th:only-of-type {\n",
       "        vertical-align: middle;\n",
       "    }\n",
       "\n",
       "    .dataframe tbody tr th {\n",
       "        vertical-align: top;\n",
       "    }\n",
       "\n",
       "    .dataframe thead th {\n",
       "        text-align: right;\n",
       "    }\n",
       "</style>\n",
       "<table border=\"1\" class=\"dataframe\">\n",
       "  <thead>\n",
       "    <tr style=\"text-align: right;\">\n",
       "      <th></th>\n",
       "      <th>num_characters</th>\n",
       "      <th>num_words</th>\n",
       "      <th>num_sentences</th>\n",
       "    </tr>\n",
       "  </thead>\n",
       "  <tbody>\n",
       "    <tr>\n",
       "      <th>count</th>\n",
       "      <td>4973.000000</td>\n",
       "      <td>4973.000000</td>\n",
       "      <td>4973.000000</td>\n",
       "    </tr>\n",
       "    <tr>\n",
       "      <th>mean</th>\n",
       "      <td>1567.215564</td>\n",
       "      <td>330.324955</td>\n",
       "      <td>19.406998</td>\n",
       "    </tr>\n",
       "    <tr>\n",
       "      <th>std</th>\n",
       "      <td>2069.147781</td>\n",
       "      <td>424.684723</td>\n",
       "      <td>30.738269</td>\n",
       "    </tr>\n",
       "    <tr>\n",
       "      <th>min</th>\n",
       "      <td>18.000000</td>\n",
       "      <td>5.000000</td>\n",
       "      <td>1.000000</td>\n",
       "    </tr>\n",
       "    <tr>\n",
       "      <th>25%</th>\n",
       "      <td>510.000000</td>\n",
       "      <td>102.000000</td>\n",
       "      <td>7.000000</td>\n",
       "    </tr>\n",
       "    <tr>\n",
       "      <th>50%</th>\n",
       "      <td>988.000000</td>\n",
       "      <td>213.000000</td>\n",
       "      <td>12.000000</td>\n",
       "    </tr>\n",
       "    <tr>\n",
       "      <th>75%</th>\n",
       "      <td>1905.000000</td>\n",
       "      <td>407.000000</td>\n",
       "      <td>22.000000</td>\n",
       "    </tr>\n",
       "    <tr>\n",
       "      <th>max</th>\n",
       "      <td>43952.000000</td>\n",
       "      <td>8479.000000</td>\n",
       "      <td>1248.000000</td>\n",
       "    </tr>\n",
       "  </tbody>\n",
       "</table>\n",
       "</div>"
      ],
      "text/plain": [
       "       num_characters    num_words  num_sentences\n",
       "count     4973.000000  4973.000000    4973.000000\n",
       "mean      1567.215564   330.324955      19.406998\n",
       "std       2069.147781   424.684723      30.738269\n",
       "min         18.000000     5.000000       1.000000\n",
       "25%        510.000000   102.000000       7.000000\n",
       "50%        988.000000   213.000000      12.000000\n",
       "75%       1905.000000   407.000000      22.000000\n",
       "max      43952.000000  8479.000000    1248.000000"
      ]
     },
     "execution_count": 27,
     "metadata": {},
     "output_type": "execute_result"
    }
   ],
   "source": [
    "data[['num_characters','num_words','num_sentences']].describe()"
   ]
  },
  {
   "cell_type": "code",
   "execution_count": 28,
   "id": "299383c5",
   "metadata": {},
   "outputs": [
    {
     "data": {
      "text/html": [
       "<div>\n",
       "<style scoped>\n",
       "    .dataframe tbody tr th:only-of-type {\n",
       "        vertical-align: middle;\n",
       "    }\n",
       "\n",
       "    .dataframe tbody tr th {\n",
       "        vertical-align: top;\n",
       "    }\n",
       "\n",
       "    .dataframe thead th {\n",
       "        text-align: right;\n",
       "    }\n",
       "</style>\n",
       "<table border=\"1\" class=\"dataframe\">\n",
       "  <thead>\n",
       "    <tr style=\"text-align: right;\">\n",
       "      <th></th>\n",
       "      <th>num_characters</th>\n",
       "      <th>num_words</th>\n",
       "      <th>num_sentences</th>\n",
       "    </tr>\n",
       "  </thead>\n",
       "  <tbody>\n",
       "    <tr>\n",
       "      <th>count</th>\n",
       "      <td>3785.000000</td>\n",
       "      <td>3785.000000</td>\n",
       "      <td>3785.000000</td>\n",
       "    </tr>\n",
       "    <tr>\n",
       "      <th>mean</th>\n",
       "      <td>1646.955614</td>\n",
       "      <td>349.929987</td>\n",
       "      <td>19.726552</td>\n",
       "    </tr>\n",
       "    <tr>\n",
       "      <th>std</th>\n",
       "      <td>2016.124421</td>\n",
       "      <td>415.718448</td>\n",
       "      <td>31.315797</td>\n",
       "    </tr>\n",
       "    <tr>\n",
       "      <th>min</th>\n",
       "      <td>27.000000</td>\n",
       "      <td>5.000000</td>\n",
       "      <td>1.000000</td>\n",
       "    </tr>\n",
       "    <tr>\n",
       "      <th>25%</th>\n",
       "      <td>585.000000</td>\n",
       "      <td>120.000000</td>\n",
       "      <td>7.000000</td>\n",
       "    </tr>\n",
       "    <tr>\n",
       "      <th>50%</th>\n",
       "      <td>1130.000000</td>\n",
       "      <td>242.000000</td>\n",
       "      <td>13.000000</td>\n",
       "    </tr>\n",
       "    <tr>\n",
       "      <th>75%</th>\n",
       "      <td>2043.000000</td>\n",
       "      <td>443.000000</td>\n",
       "      <td>23.000000</td>\n",
       "    </tr>\n",
       "    <tr>\n",
       "      <th>max</th>\n",
       "      <td>43952.000000</td>\n",
       "      <td>8479.000000</td>\n",
       "      <td>1248.000000</td>\n",
       "    </tr>\n",
       "  </tbody>\n",
       "</table>\n",
       "</div>"
      ],
      "text/plain": [
       "       num_characters    num_words  num_sentences\n",
       "count     3785.000000  3785.000000    3785.000000\n",
       "mean      1646.955614   349.929987      19.726552\n",
       "std       2016.124421   415.718448      31.315797\n",
       "min         27.000000     5.000000       1.000000\n",
       "25%        585.000000   120.000000       7.000000\n",
       "50%       1130.000000   242.000000      13.000000\n",
       "75%       2043.000000   443.000000      23.000000\n",
       "max      43952.000000  8479.000000    1248.000000"
      ]
     },
     "execution_count": 28,
     "metadata": {},
     "output_type": "execute_result"
    }
   ],
   "source": [
    "#ham\n",
    "data[data['spam'] == 0][['num_characters','num_words','num_sentences']].describe()"
   ]
  },
  {
   "cell_type": "code",
   "execution_count": 29,
   "id": "776c5422",
   "metadata": {},
   "outputs": [
    {
     "data": {
      "text/html": [
       "<div>\n",
       "<style scoped>\n",
       "    .dataframe tbody tr th:only-of-type {\n",
       "        vertical-align: middle;\n",
       "    }\n",
       "\n",
       "    .dataframe tbody tr th {\n",
       "        vertical-align: top;\n",
       "    }\n",
       "\n",
       "    .dataframe thead th {\n",
       "        text-align: right;\n",
       "    }\n",
       "</style>\n",
       "<table border=\"1\" class=\"dataframe\">\n",
       "  <thead>\n",
       "    <tr style=\"text-align: right;\">\n",
       "      <th></th>\n",
       "      <th>num_characters</th>\n",
       "      <th>num_words</th>\n",
       "      <th>num_sentences</th>\n",
       "    </tr>\n",
       "  </thead>\n",
       "  <tbody>\n",
       "    <tr>\n",
       "      <th>count</th>\n",
       "      <td>1188.000000</td>\n",
       "      <td>1188.000000</td>\n",
       "      <td>1188.000000</td>\n",
       "    </tr>\n",
       "    <tr>\n",
       "      <th>mean</th>\n",
       "      <td>1313.161616</td>\n",
       "      <td>267.862795</td>\n",
       "      <td>18.388889</td>\n",
       "    </tr>\n",
       "    <tr>\n",
       "      <th>std</th>\n",
       "      <td>2211.480502</td>\n",
       "      <td>446.542434</td>\n",
       "      <td>28.810193</td>\n",
       "    </tr>\n",
       "    <tr>\n",
       "      <th>min</th>\n",
       "      <td>18.000000</td>\n",
       "      <td>5.000000</td>\n",
       "      <td>1.000000</td>\n",
       "    </tr>\n",
       "    <tr>\n",
       "      <th>25%</th>\n",
       "      <td>403.000000</td>\n",
       "      <td>81.000000</td>\n",
       "      <td>6.000000</td>\n",
       "    </tr>\n",
       "    <tr>\n",
       "      <th>50%</th>\n",
       "      <td>693.500000</td>\n",
       "      <td>141.000000</td>\n",
       "      <td>11.000000</td>\n",
       "    </tr>\n",
       "    <tr>\n",
       "      <th>75%</th>\n",
       "      <td>1276.000000</td>\n",
       "      <td>262.250000</td>\n",
       "      <td>18.000000</td>\n",
       "    </tr>\n",
       "    <tr>\n",
       "      <th>max</th>\n",
       "      <td>28432.000000</td>\n",
       "      <td>6131.000000</td>\n",
       "      <td>438.000000</td>\n",
       "    </tr>\n",
       "  </tbody>\n",
       "</table>\n",
       "</div>"
      ],
      "text/plain": [
       "       num_characters    num_words  num_sentences\n",
       "count     1188.000000  1188.000000    1188.000000\n",
       "mean      1313.161616   267.862795      18.388889\n",
       "std       2211.480502   446.542434      28.810193\n",
       "min         18.000000     5.000000       1.000000\n",
       "25%        403.000000    81.000000       6.000000\n",
       "50%        693.500000   141.000000      11.000000\n",
       "75%       1276.000000   262.250000      18.000000\n",
       "max      28432.000000  6131.000000     438.000000"
      ]
     },
     "execution_count": 29,
     "metadata": {},
     "output_type": "execute_result"
    }
   ],
   "source": [
    "#spam\n",
    "data[data['spam'] == 1][['num_characters','num_words','num_sentences']].describe()"
   ]
  },
  {
   "cell_type": "code",
   "execution_count": 30,
   "id": "fc2a9625",
   "metadata": {},
   "outputs": [],
   "source": [
    "import seaborn as sns\n"
   ]
  },
  {
   "cell_type": "code",
   "execution_count": 31,
   "id": "87068a1a",
   "metadata": {},
   "outputs": [
    {
     "data": {
      "text/plain": [
       "<AxesSubplot:xlabel='num_characters', ylabel='Count'>"
      ]
     },
     "execution_count": 31,
     "metadata": {},
     "output_type": "execute_result"
    },
    {
     "data": {
      "image/png": "[encoded data removed]",
      "text/plain": [
       "<Figure size 1200x600 with 1 Axes>"
      ]
     },
     "metadata": {},
     "output_type": "display_data"
    }
   ],
   "source": [
    "plt.figure(figsize=(12,6))\n",
    "sns.histplot(data[data['spam']==0]['num_characters'])\n",
    "sns.histplot(data[data['spam']==1]['num_characters'], color='red')"
   ]
  },
  {
   "cell_type": "code",
   "execution_count": 32,
   "id": "c8eae19f",
   "metadata": {},
   "outputs": [
    {
     "data": {
      "text/plain": [
       "<AxesSubplot:xlabel='num_words', ylabel='Count'>"
      ]
     },
     "execution_count": 32,
     "metadata": {},
     "output_type": "execute_result"
    },
    {
     "data": {
      "image/png": "[encoded data removed]",
      "text/plain": [
       "<Figure size 1200x600 with 1 Axes>"
      ]
     },
     "metadata": {},
     "output_type": "display_data"
    }
   ],
   "source": [
    "plt.figure(figsize=(12,6))\n",
    "sns.histplot(data[data['spam']==0]['num_words'])\n",
    "sns.histplot(data[data['spam']==1]['num_words'], color='red')"
   ]
  },
  {
   "cell_type": "code",
   "execution_count": 33,
   "id": "2ca20601",
   "metadata": {},
   "outputs": [
    {
     "data": {
      "text/plain": [
       "<seaborn.axisgrid.PairGrid at 0x7fa5a2dc8d00>"
      ]
     },
     "execution_count": 33,
     "metadata": {},
     "output_type": "execute_result"
    },
    {
     "data": {
      "image/png": "[encoded data removed]",
      "text/plain": [
       "<Figure size 808.875x750 with 12 Axes>"
      ]
     },
     "metadata": {},
     "output_type": "display_data"
    }
   ],
   "source": [
    "sns.pairplot(data, hue='spam')"
   ]
  },
  {
   "cell_type": "code",
   "execution_count": 34,
   "id": "504fc341",
   "metadata": {},
   "outputs": [
    {
     "data": {
      "text/plain": [
       "<AxesSubplot:>"
      ]
     },
     "execution_count": 34,
     "metadata": {},
     "output_type": "execute_result"
    },
    {
     "data": {
      "image/png": "[encoded data removed]",
      "text/plain": [
       "<Figure size 640x480 with 2 Axes>"
      ]
     },
     "metadata": {},
     "output_type": "display_data"
    }
   ],
   "source": [
    "sns.heatmap(data.corr(), annot=True)"
   ]
  },
  {
   "cell_type": "markdown",
   "id": "f554dded",
   "metadata": {},
   "source": [
    "Data Preprocessing\n",
    "- Lower case\n",
    "- Tokenization\n",
    "- Removing special characters\n",
    "- Removing stop words and punctuation\n",
    "- Stemming\n"
   ]
  },
  {
   "cell_type": "code",
   "execution_count": 35,
   "id": "dc36e031",
   "metadata": {},
   "outputs": [],
   "source": [
    "from nltk.stem.porter import PorterStemmer\n",
    "ps = PorterStemmer()"
   ]
  },
  {
   "cell_type": "code",
   "execution_count": 36,
   "id": "1c3200a2",
   "metadata": {},
   "outputs": [],
   "source": [
    "from nltk.corpus import stopwords"
   ]
  },
  {
   "cell_type": "code",
   "execution_count": 37,
   "id": "8b9c4a85",
   "metadata": {},
   "outputs": [
    {
     "data": {
      "text/plain": [
       "'!\"#$%&\\'()*+,-./:;<=>?@[\\\\]^_`{|}~'"
      ]
     },
     "execution_count": 37,
     "metadata": {},
     "output_type": "execute_result"
    }
   ],
   "source": [
    "import string\n",
    "string.punctuation"
   ]
  },
  {
   "cell_type": "code",
   "execution_count": 38,
   "id": "61a6ef79",
   "metadata": {},
   "outputs": [],
   "source": [
    "# def transform_text(text):\n",
    "#     text = text.lower()\n",
    "#     text = nltk.word_tokenize(text)\n",
    "    \n",
    "#     y=[]\n",
    "#     for i in text:\n",
    "#         if i.isalnum():\n",
    "#             y.append(i)\n",
    "    \n",
    "#     text = y[:] #mutatable so cloning has to be done\n",
    "#     y.clear()\n",
    "    \n",
    "#     for i in text:\n",
    "#         if i not in stopwords.words('english') and i not in string.punctuation and i !='subject':\n",
    "#             y.append(i)\n",
    "            \n",
    "#     text = y[:]\n",
    "#     y.clear()\n",
    "    \n",
    "#     for i in text:\n",
    "#         y.append(ps.stem(i))\n",
    "        \n",
    "        \n",
    "#     return \" \".join(y) #returning as string"
   ]
  },
  {
   "cell_type": "code",
   "execution_count": 39,
   "id": "866ed92e",
   "metadata": {},
   "outputs": [],
   "source": [
    "stop_words = set(stopwords.words('english'))\n",
    "def transform_text(text):\n",
    "    text = text.lower()\n",
    "    text = nltk.word_tokenize(text)\n",
    "    \n",
    "    y=[]\n",
    "    for i in text:\n",
    "        if i.isalnum():\n",
    "            if i not in stop_words and i not in string.punctuation and i !='subject':\n",
    "                y.append(ps.stem(i))\n",
    "        \n",
    "        \n",
    "    return \" \".join(y) #returning as string\n"
   ]
  },
  {
   "cell_type": "code",
   "execution_count": 40,
   "id": "4b681ffb",
   "metadata": {},
   "outputs": [
    {
     "data": {
      "text/plain": [
       "'list clear benefit creativ hand made origin logo special done reflect distinct compani imag'"
      ]
     },
     "execution_count": 40,
     "metadata": {},
     "output_type": "execute_result"
    }
   ],
   "source": [
    "transform_text('Subject here is the list of clear  benefits : creativeness : hand - made , original logos , specially done  to reflect your distinctive company image')"
   ]
  },
  {
   "cell_type": "code",
   "execution_count": 41,
   "id": "5cfc594e",
   "metadata": {},
   "outputs": [],
   "source": [
    "# transform_text(data['text'][2])"
   ]
  },
  {
   "cell_type": "code",
   "execution_count": 42,
   "id": "0ed31334",
   "metadata": {},
   "outputs": [],
   "source": [
    "data['transformed_text']=data['text'].apply(transform_text)"
   ]
  },
  {
   "cell_type": "code",
   "execution_count": 43,
   "id": "75704477",
   "metadata": {},
   "outputs": [
    {
     "data": {
      "text/html": [
       "<div>\n",
       "<style scoped>\n",
       "    .dataframe tbody tr th:only-of-type {\n",
       "        vertical-align: middle;\n",
       "    }\n",
       "\n",
       "    .dataframe tbody tr th {\n",
       "        vertical-align: top;\n",
       "    }\n",
       "\n",
       "    .dataframe thead th {\n",
       "        text-align: right;\n",
       "    }\n",
       "</style>\n",
       "<table border=\"1\" class=\"dataframe\">\n",
       "  <thead>\n",
       "    <tr style=\"text-align: right;\">\n",
       "      <th></th>\n",
       "      <th>text</th>\n",
       "      <th>spam</th>\n",
       "      <th>num_characters</th>\n",
       "      <th>num_words</th>\n",
       "      <th>num_sentences</th>\n",
       "      <th>transformed_text</th>\n",
       "    </tr>\n",
       "  </thead>\n",
       "  <tbody>\n",
       "    <tr>\n",
       "      <th>1992</th>\n",
       "      <td>Subject: re : lawyer  ian ,  sorry for a delay...</td>\n",
       "      <td>0</td>\n",
       "      <td>1896</td>\n",
       "      <td>412</td>\n",
       "      <td>30</td>\n",
       "      <td>lawyer ian sorri delay respond current london ...</td>\n",
       "    </tr>\n",
       "    <tr>\n",
       "      <th>821</th>\n",
       "      <td>Subject: http : / / www . efi . ie /  http : /...</td>\n",
       "      <td>1</td>\n",
       "      <td>1348</td>\n",
       "      <td>266</td>\n",
       "      <td>31</td>\n",
       "      <td>http www efi ie http www efi ie index 1998 07 ...</td>\n",
       "    </tr>\n",
       "    <tr>\n",
       "      <th>3114</th>\n",
       "      <td>Subject: contract agreement for energy derivat...</td>\n",
       "      <td>0</td>\n",
       "      <td>722</td>\n",
       "      <td>136</td>\n",
       "      <td>9</td>\n",
       "      <td>contract agreement energi deriv work john ambl...</td>\n",
       "    </tr>\n",
       "    <tr>\n",
       "      <th>1620</th>\n",
       "      <td>Subject: re : alp presentation  fyi  vince  - ...</td>\n",
       "      <td>0</td>\n",
       "      <td>2204</td>\n",
       "      <td>541</td>\n",
       "      <td>29</td>\n",
       "      <td>alp present fyi vinc forward vinc j kaminski h...</td>\n",
       "    </tr>\n",
       "    <tr>\n",
       "      <th>4613</th>\n",
       "      <td>Subject: tw capacity options  we ' re at the p...</td>\n",
       "      <td>0</td>\n",
       "      <td>2174</td>\n",
       "      <td>507</td>\n",
       "      <td>10</td>\n",
       "      <td>tw capac option point project solicit comment ...</td>\n",
       "    </tr>\n",
       "  </tbody>\n",
       "</table>\n",
       "</div>"
      ],
      "text/plain": [
       "                                                   text  spam  num_characters  \\\n",
       "1992  Subject: re : lawyer  ian ,  sorry for a delay...     0            1896   \n",
       "821   Subject: http : / / www . efi . ie /  http : /...     1            1348   \n",
       "3114  Subject: contract agreement for energy derivat...     0             722   \n",
       "1620  Subject: re : alp presentation  fyi  vince  - ...     0            2204   \n",
       "4613  Subject: tw capacity options  we ' re at the p...     0            2174   \n",
       "\n",
       "      num_words  num_sentences  \\\n",
       "1992        412             30   \n",
       "821         266             31   \n",
       "3114        136              9   \n",
       "1620        541             29   \n",
       "4613        507             10   \n",
       "\n",
       "                                       transformed_text  \n",
       "1992  lawyer ian sorri delay respond current london ...  \n",
       "821   http www efi ie http www efi ie index 1998 07 ...  \n",
       "3114  contract agreement energi deriv work john ambl...  \n",
       "1620  alp present fyi vinc forward vinc j kaminski h...  \n",
       "4613  tw capac option point project solicit comment ...  "
      ]
     },
     "execution_count": 43,
     "metadata": {},
     "output_type": "execute_result"
    }
   ],
   "source": [
    "data.head()"
   ]
  },
  {
   "cell_type": "code",
   "execution_count": 44,
   "id": "c126df36",
   "metadata": {},
   "outputs": [],
   "source": [
    "#word cloud, will highlight the important words\n",
    "from wordcloud import WordCloud\n",
    "wc = WordCloud(width=500, height=500, min_font_size=10, background_color='white')\n"
   ]
  },
  {
   "cell_type": "code",
   "execution_count": 45,
   "id": "6beb8a78",
   "metadata": {},
   "outputs": [],
   "source": [
    "# spam_wc = wc.generate(data[data['spam']==1]['transformed_text'].str.cat(sep=\" \"))\n"
   ]
  },
  {
   "cell_type": "code",
   "execution_count": 46,
   "id": "1d4f8acc",
   "metadata": {},
   "outputs": [],
   "source": [
    "# plt.figure(figsize = (20,20)) \n",
    "# wc = WordCloud(max_words = 2000 , width = 1600 , height = 800).generate(\" \".join(data[data.spam == 1].text))\n",
    "# plt.imshow(wc , interpolation = 'bilinear')\n",
    "# plt.title(\"Spam Word Cloud\")"
   ]
  },
  {
   "cell_type": "code",
   "execution_count": 47,
   "id": "dc0e5b76",
   "metadata": {},
   "outputs": [],
   "source": [
    "# plt.figure(figsize=(10,10))\n",
    "# plt.imshow(spam_wc)"
   ]
  },
  {
   "cell_type": "code",
   "execution_count": 48,
   "id": "bd4af75a",
   "metadata": {},
   "outputs": [],
   "source": [
    "# ham_wc = wc.generate(data[data['spam']==0]['transformed_text'].str.cat(sep=\" \"))"
   ]
  },
  {
   "cell_type": "code",
   "execution_count": 49,
   "id": "7debb369",
   "metadata": {},
   "outputs": [],
   "source": [
    "# plt.figure(figsize=(10,10))\n",
    "# plt.imshow(ham_wc)"
   ]
  },
  {
   "cell_type": "code",
   "execution_count": 50,
   "id": "7ad99c20",
   "metadata": {},
   "outputs": [],
   "source": [
    "# spam_corpus = []\n",
    "# for msg in data[data['spam']== 1]['transformed_text'].tolist():\n",
    "#     for word in msg.split():\n",
    "#         spam_corpus.append(word)"
   ]
  },
  {
   "cell_type": "code",
   "execution_count": 51,
   "id": "c80c28e9",
   "metadata": {},
   "outputs": [],
   "source": [
    "# len(spam_corpus)"
   ]
  },
  {
   "cell_type": "code",
   "execution_count": 52,
   "id": "69275f49",
   "metadata": {},
   "outputs": [],
   "source": [
    "# from collections import Counter\n",
    "# sns.barplot(pd.DataFrame(Counter(spam_corpus).most_common(30))[0],pd.DataFrame(Counter(spam_corpus).most_common(30))[1])\n",
    "# plt.xticks(rotation='vertical')\n",
    "# plt.show()"
   ]
  },
  {
   "cell_type": "code",
   "execution_count": 53,
   "id": "cacd89dc",
   "metadata": {},
   "outputs": [],
   "source": [
    "# ham_corpus = []\n",
    "# for msg in data[data['spam']== 0]['transformed_text'].tolist():\n",
    "#     for word in msg.split():\n",
    "#         ham_corpus.append(word)"
   ]
  },
  {
   "cell_type": "code",
   "execution_count": 54,
   "id": "35214ef6",
   "metadata": {},
   "outputs": [],
   "source": [
    "# len(ham_corpus)"
   ]
  },
  {
   "cell_type": "code",
   "execution_count": 55,
   "id": "02d0fffc",
   "metadata": {},
   "outputs": [],
   "source": [
    "# from collections import Counter\n",
    "# sns.barplot(pd.DataFrame(Counter(ham_corpus).most_common(30))[0],pd.DataFrame(Counter(ham_corpus).most_common(30))[1])\n",
    "# plt.xticks(rotation='vertical')\n",
    "# plt.show()"
   ]
  },
  {
   "cell_type": "code",
   "execution_count": 56,
   "id": "1fefb47b",
   "metadata": {},
   "outputs": [],
   "source": [
    "#using bag of words to vectorize\n",
    "from sklearn.feature_extraction.text import CountVectorizer\n",
    "cv = CountVectorizer(ngram_range = (2, 2))"
   ]
  },
  {
   "cell_type": "code",
   "execution_count": 57,
   "id": "77e5c2c1",
   "metadata": {},
   "outputs": [],
   "source": [
    "X = cv.fit_transform(data['transformed_text']).toarray()"
   ]
  },
  {
   "cell_type": "code",
   "execution_count": 58,
   "id": "3ec9d4e8",
   "metadata": {},
   "outputs": [
    {
     "data": {
      "text/plain": [
       "(4973, 291128)"
      ]
     },
     "execution_count": 58,
     "metadata": {},
     "output_type": "execute_result"
    }
   ],
   "source": [
    "X.shape"
   ]
  },
  {
   "cell_type": "code",
   "execution_count": 59,
   "id": "b951edfa",
   "metadata": {},
   "outputs": [],
   "source": [
    "y = data['spam'].values"
   ]
  },
  {
   "cell_type": "code",
   "execution_count": 60,
   "id": "b9794dff",
   "metadata": {},
   "outputs": [],
   "source": [
    "from sklearn.model_selection import train_test_split"
   ]
  },
  {
   "cell_type": "code",
   "execution_count": 61,
   "id": "77987387",
   "metadata": {},
   "outputs": [],
   "source": [
    "X_train, X_test, y_train, y_test = train_test_split(X,y,test_size=0.2, random_state=2)\n"
   ]
  },
  {
   "cell_type": "code",
   "execution_count": 62,
   "id": "66e0cdc2",
   "metadata": {},
   "outputs": [],
   "source": [
    "from sklearn.naive_bayes import GaussianNB, MultinomialNB, BernoulliNB\n",
    "from sklearn.metrics import accuracy_score, confusion_matrix, precision_score, classification_report\n",
    "from sklearn.neighbors import KNeighborsClassifier"
   ]
  },
  {
   "cell_type": "code",
   "execution_count": 63,
   "id": "ca5ed262",
   "metadata": {},
   "outputs": [],
   "source": [
    "#making object of each\n",
    "gnb = GaussianNB()\n",
    "mnb = MultinomialNB()\n",
    "bnb = BernoulliNB()"
   ]
  },
  {
   "cell_type": "code",
   "execution_count": 64,
   "id": "c595afcc",
   "metadata": {},
   "outputs": [
    {
     "name": "stdout",
     "output_type": "stream",
     "text": [
      "              precision    recall  f1-score   support\n",
      "\n",
      "           0       0.98      0.99      0.99       745\n",
      "           1       0.98      0.93      0.95       250\n",
      "\n",
      "    accuracy                           0.98       995\n",
      "   macro avg       0.98      0.96      0.97       995\n",
      "weighted avg       0.98      0.98      0.98       995\n",
      "\n",
      "0.9778894472361809\n",
      "[[740   5]\n",
      " [ 17 233]]\n",
      "0.9789915966386554\n"
     ]
    }
   ],
   "source": [
    "gnb.fit(X_train, y_train)\n",
    "y_pred1 = gnb.predict(X_test)\n",
    "print(classification_report(y_test, y_pred1))\n",
    "print(accuracy_score(y_test, y_pred1))\n",
    "print(confusion_matrix(y_test, y_pred1))\n",
    "print(precision_score(y_test, y_pred1))"
   ]
  },
  {
   "cell_type": "code",
   "execution_count": 65,
   "id": "67724e72",
   "metadata": {},
   "outputs": [
    {
     "name": "stdout",
     "output_type": "stream",
     "text": [
      "              precision    recall  f1-score   support\n",
      "\n",
      "           0       1.00      0.87      0.93       745\n",
      "           1       0.72      0.99      0.83       250\n",
      "\n",
      "    accuracy                           0.90       995\n",
      "   macro avg       0.86      0.93      0.88       995\n",
      "weighted avg       0.93      0.90      0.91       995\n",
      "\n",
      "0.9005025125628141\n",
      "[[648  97]\n",
      " [  2 248]]\n",
      "0.7188405797101449\n"
     ]
    }
   ],
   "source": [
    "mnb.fit(X_train, y_train)\n",
    "y_pred2 = mnb.predict(X_test)\n",
    "print(classification_report(y_test, y_pred2))\n",
    "print(accuracy_score(y_test, y_pred2))\n",
    "print(confusion_matrix(y_test, y_pred2))\n",
    "print(precision_score(y_test, y_pred2))"
   ]
  },
  {
   "cell_type": "code",
   "execution_count": 66,
   "id": "47647929",
   "metadata": {},
   "outputs": [
    {
     "name": "stdout",
     "output_type": "stream",
     "text": [
      "              precision    recall  f1-score   support\n",
      "\n",
      "           0       0.81      0.97      0.88       745\n",
      "           1       0.78      0.30      0.44       250\n",
      "\n",
      "    accuracy                           0.80       995\n",
      "   macro avg       0.79      0.64      0.66       995\n",
      "weighted avg       0.80      0.80      0.77       995\n",
      "\n",
      "0.8040201005025126\n",
      "[[724  21]\n",
      " [174  76]]\n",
      "0.7835051546391752\n"
     ]
    }
   ],
   "source": [
    "bnb.fit(X_train, y_train)\n",
    "y_pred3 = bnb.predict(X_test)\n",
    "print(classification_report(y_test, y_pred3))\n",
    "print(accuracy_score(y_test, y_pred3))\n",
    "print(confusion_matrix(y_test, y_pred3))\n",
    "print(precision_score(y_test, y_pred3))"
   ]
  },
  {
   "cell_type": "code",
   "execution_count": 67,
   "id": "176cd13e",
   "metadata": {},
   "outputs": [],
   "source": [
    "#Using Tfidf Vectorizer\n",
    "from sklearn.feature_extraction.text import TfidfVectorizer\n",
    "tfidf = TfidfVectorizer(ngram_range = (2, 2))"
   ]
  },
  {
   "cell_type": "code",
   "execution_count": 68,
   "id": "802bed44",
   "metadata": {},
   "outputs": [],
   "source": [
    "X = tfidf.fit_transform(data['transformed_text']).toarray()"
   ]
  },
  {
   "cell_type": "code",
   "execution_count": 69,
   "id": "0e288058",
   "metadata": {},
   "outputs": [],
   "source": [
    "X_train, X_test, y_train, y_test = train_test_split(X,y,test_size=0.2, random_state=2)"
   ]
  },
  {
   "cell_type": "code",
   "execution_count": 70,
   "id": "3d0a65d4",
   "metadata": {},
   "outputs": [
    {
     "name": "stdout",
     "output_type": "stream",
     "text": [
      "              precision    recall  f1-score   support\n",
      "\n",
      "           0       0.97      0.99      0.98       745\n",
      "           1       0.98      0.92      0.95       250\n",
      "\n",
      "    accuracy                           0.98       995\n",
      "   macro avg       0.98      0.96      0.97       995\n",
      "weighted avg       0.98      0.98      0.98       995\n",
      "\n",
      "0.9758793969849247\n",
      "[[740   5]\n",
      " [ 19 231]]\n",
      "0.9788135593220338\n"
     ]
    }
   ],
   "source": [
    "gnb.fit(X_train, y_train)\n",
    "y_pred1 = gnb.predict(X_test)\n",
    "print(classification_report(y_test, y_pred1))\n",
    "print(accuracy_score(y_test, y_pred1))\n",
    "print(confusion_matrix(y_test, y_pred1))\n",
    "print(precision_score(y_test, y_pred1))"
   ]
  },
  {
   "cell_type": "code",
   "execution_count": 71,
   "id": "8fb355ce",
   "metadata": {},
   "outputs": [
    {
     "name": "stdout",
     "output_type": "stream",
     "text": [
      "              precision    recall  f1-score   support\n",
      "\n",
      "           0       0.88      1.00      0.93       745\n",
      "           1       1.00      0.58      0.73       250\n",
      "\n",
      "    accuracy                           0.89       995\n",
      "   macro avg       0.94      0.79      0.83       995\n",
      "weighted avg       0.91      0.89      0.88       995\n",
      "\n",
      "0.8944723618090452\n",
      "[[745   0]\n",
      " [105 145]]\n",
      "1.0\n"
     ]
    }
   ],
   "source": [
    "mnb.fit(X_train, y_train)\n",
    "y_pred2 = mnb.predict(X_test)\n",
    "print(classification_report(y_test, y_pred2))\n",
    "print(accuracy_score(y_test, y_pred2))\n",
    "print(confusion_matrix(y_test, y_pred2))\n",
    "print(precision_score(y_test, y_pred2))"
   ]
  },
  {
   "cell_type": "code",
   "execution_count": 72,
   "id": "1fe2514f",
   "metadata": {},
   "outputs": [
    {
     "name": "stdout",
     "output_type": "stream",
     "text": [
      "              precision    recall  f1-score   support\n",
      "\n",
      "           0       0.81      0.97      0.88       745\n",
      "           1       0.78      0.30      0.44       250\n",
      "\n",
      "    accuracy                           0.80       995\n",
      "   macro avg       0.79      0.64      0.66       995\n",
      "weighted avg       0.80      0.80      0.77       995\n",
      "\n",
      "0.8040201005025126\n",
      "[[724  21]\n",
      " [174  76]]\n",
      "0.7835051546391752\n"
     ]
    }
   ],
   "source": [
    "bnb.fit(X_train, y_train)\n",
    "y_pred3 = bnb.predict(X_test)\n",
    "print(classification_report(y_test, y_pred3))\n",
    "print(accuracy_score(y_test, y_pred3))\n",
    "print(confusion_matrix(y_test, y_pred3))\n",
    "print(precision_score(y_test, y_pred3))"
   ]
  },
  {
   "cell_type": "code",
   "execution_count": 73,
   "id": "f816a0e5",
   "metadata": {},
   "outputs": [],
   "source": [
    "#tfidf + bnb is working the best"
   ]
  },
  {
   "cell_type": "code",
   "execution_count": 74,
   "id": "df162fb4",
   "metadata": {},
   "outputs": [
    {
     "name": "stdout",
     "output_type": "stream",
     "text": [
      "              precision    recall  f1-score   support\n",
      "\n",
      "           0       0.98      0.99      0.99       745\n",
      "           1       0.98      0.94      0.96       250\n",
      "\n",
      "    accuracy                           0.98       995\n",
      "   macro avg       0.98      0.97      0.97       995\n",
      "weighted avg       0.98      0.98      0.98       995\n",
      "\n",
      "[[740   5]\n",
      " [ 14 236]]\n",
      "0.9809045226130654\n",
      "0.979253112033195\n"
     ]
    },
    {
     "name": "stderr",
     "output_type": "stream",
     "text": [
      "/Users/kriti/opt/anaconda3/lib/python3.9/site-packages/sklearn/neighbors/_classification.py:228: FutureWarning: Unlike other reduction functions (e.g. `skew`, `kurtosis`), the default behavior of `mode` typically preserves the axis it acts along. In SciPy 1.11.0, this behavior will change: the default value of `keepdims` will become False, the `axis` over which the statistic is taken will be eliminated, and the value None will no longer be accepted. Set `keepdims` to True or False to avoid this warning.\n",
      "  mode, _ = stats.mode(_y[neigh_ind, k], axis=1)\n"
     ]
    }
   ],
   "source": [
    "\n",
    "neigh = KNeighborsClassifier(n_neighbors=1)\n",
    "neigh.fit(X_train,y_train)\n",
    "y_pred4 = neigh.predict(X_test)\n",
    "print(classification_report(y_test, y_pred4))\n",
    "print(confusion_matrix(y_test, y_pred4))\n",
    "print(accuracy_score(y_test, y_pred4))\n",
    "print(precision_score(y_test, y_pred4))"
   ]
  },
  {
   "cell_type": "code",
   "execution_count": 75,
   "id": "96e765a8",
   "metadata": {},
   "outputs": [
    {
     "name": "stdout",
     "output_type": "stream",
     "text": [
      "              precision    recall  f1-score   support\n",
      "\n",
      "           0       0.97      0.99      0.98       745\n",
      "           1       0.98      0.90      0.94       250\n",
      "\n",
      "    accuracy                           0.97       995\n",
      "   macro avg       0.98      0.95      0.96       995\n",
      "weighted avg       0.97      0.97      0.97       995\n",
      "\n",
      "[[741   4]\n",
      " [ 24 226]]\n",
      "0.9718592964824121\n",
      "0.9826086956521739\n"
     ]
    },
    {
     "name": "stderr",
     "output_type": "stream",
     "text": [
      "/Users/kriti/opt/anaconda3/lib/python3.9/site-packages/sklearn/neighbors/_classification.py:228: FutureWarning: Unlike other reduction functions (e.g. `skew`, `kurtosis`), the default behavior of `mode` typically preserves the axis it acts along. In SciPy 1.11.0, this behavior will change: the default value of `keepdims` will become False, the `axis` over which the statistic is taken will be eliminated, and the value None will no longer be accepted. Set `keepdims` to True or False to avoid this warning.\n",
      "  mode, _ = stats.mode(_y[neigh_ind, k], axis=1)\n"
     ]
    }
   ],
   "source": [
    "neigh = KNeighborsClassifier(n_neighbors=2)\n",
    "neigh.fit(X_train,y_train)\n",
    "y_pred5 = neigh.predict(X_test)\n",
    "print(classification_report(y_test, y_pred5))\n",
    "print(confusion_matrix(y_test, y_pred5))\n",
    "print(accuracy_score(y_test, y_pred5))\n",
    "print(precision_score(y_test, y_pred5))"
   ]
  },
  {
   "cell_type": "code",
   "execution_count": null,
   "id": "0e1969ba",
   "metadata": {},
   "outputs": [],
   "source": [
    "neigh = KNeighborsClassifier(n_neighbors=3)\n",
    "neigh.fit(X_train,y_train)\n",
    "y_pred6 = neigh.predict(X_test)\n",
    "print(classification_report(y_test, y_pred6))\n",
    "print(confusion_matrix(y_test, y_pred6))\n",
    "print(accuracy_score(y_test, y_pred6))\n",
    "print(precision_score(y_test, y_pred6))"
   ]
  },
  {
   "cell_type": "code",
   "execution_count": null,
   "id": "56a4ab21",
   "metadata": {},
   "outputs": [],
   "source": []
  },
  {
   "cell_type": "code",
   "execution_count": null,
   "id": "09a10a4c",
   "metadata": {},
   "outputs": [],
   "source": []
  }
 ],
 "metadata": {
  "kernelspec": {
   "display_name": "Python 3 (ipykernel)",
   "language": "python",
   "name": "python3"
  },
  "language_info": {
   "codemirror_mode": {
    "name": "ipython",
    "version": 3
   },
   "file_extension": ".py",
   "mimetype": "text/x-python",
   "name": "python",
   "nbconvert_exporter": "python",
   "pygments_lexer": "ipython3",
   "version": "3.9.13"
  }
 },
 "nbformat": 4,
 "nbformat_minor": 5
}
